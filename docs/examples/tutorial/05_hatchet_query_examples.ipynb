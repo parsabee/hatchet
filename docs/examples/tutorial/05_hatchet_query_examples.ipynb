{
 "cells": [
  {
   "cell_type": "code",
   "execution_count": 1,
   "metadata": {},
   "outputs": [],
   "source": [
    "import hatchet as ht"
   ]
  },
  {
   "cell_type": "markdown",
   "metadata": {},
   "source": [
    "# Basic Mock Example\n",
    "\n",
    "This basic example uses a mock GraphFrame taken from the testing directory in the Hatchet repo."
   ]
  },
  {
   "cell_type": "markdown",
   "metadata": {},
   "source": [
    "## Generate and Visualize Mock GraphFrame"
   ]
  },
  {
   "cell_type": "code",
   "execution_count": 29,
   "metadata": {},
   "outputs": [],
   "source": [
    "# Copied from hatchet/hatchet/tests/conftest.py\n",
    "def mock_graph_literal():\n",
    "    graph_dict = [\n",
    "        {\n",
    "            \"name\": \"foo\",\n",
    "            \"metrics\": {\"time (inc)\": 130.0, \"time\": 0.0},\n",
    "            \"children\": [\n",
    "                {\n",
    "                    \"name\": \"bar\",\n",
    "                    \"metrics\": {\"time (inc)\": 20.0, \"time\": 5.0},\n",
    "                    \"children\": [\n",
    "                        {\"name\": \"baz\", \"metrics\": {\"time (inc)\": 5.0, \"time\": 5.0}},\n",
    "                        {\n",
    "                            \"name\": \"grault\",\n",
    "                            \"metrics\": {\"time (inc)\": 10.0, \"time\": 10.0},\n",
    "                        },\n",
    "                    ],\n",
    "                },\n",
    "                {\n",
    "                    \"name\": \"qux\",\n",
    "                    \"metrics\": {\"time (inc)\": 60.0, \"time\": 0.0},\n",
    "                    \"children\": [\n",
    "                        {\n",
    "                            \"name\": \"quux\",\n",
    "                            \"metrics\": {\"time (inc)\": 60.0, \"time\": 5.0},\n",
    "                            \"children\": [\n",
    "                                {\n",
    "                                    \"name\": \"corge\",\n",
    "                                    \"metrics\": {\"time (inc)\": 55.0, \"time\": 10.0},\n",
    "                                    \"children\": [\n",
    "                                        {\n",
    "                                            \"name\": \"bar\",\n",
    "                                            \"metrics\": {\n",
    "                                                \"time (inc)\": 20.0,\n",
    "                                                \"time\": 5.0,\n",
    "                                            },\n",
    "                                            \"children\": [\n",
    "                                                {\n",
    "                                                    \"name\": \"baz\",\n",
    "                                                    \"metrics\": {\n",
    "                                                        \"time (inc)\": 5.0,\n",
    "                                                        \"time\": 5.0,\n",
    "                                                    },\n",
    "                                                },\n",
    "                                                {\n",
    "                                                    \"name\": \"grault\",\n",
    "                                                    \"metrics\": {\n",
    "                                                        \"time (inc)\": 10.0,\n",
    "                                                        \"time\": 10.0,\n",
    "                                                    },\n",
    "                                                },\n",
    "                                            ],\n",
    "                                        },\n",
    "                                        {\n",
    "                                            \"name\": \"grault\",\n",
    "                                            \"metrics\": {\n",
    "                                                \"time (inc)\": 10.0,\n",
    "                                                \"time\": 10.0,\n",
    "                                            },\n",
    "                                        },\n",
    "                                        {\n",
    "                                            \"name\": \"garply\",\n",
    "                                            \"metrics\": {\n",
    "                                                \"time (inc)\": 15.0,\n",
    "                                                \"time\": 15.0,\n",
    "                                            },\n",
    "                                        },\n",
    "                                    ],\n",
    "                                }\n",
    "                            ],\n",
    "                        }\n",
    "                    ],\n",
    "                },\n",
    "                {\n",
    "                    \"name\": \"waldo\",\n",
    "                    \"metrics\": {\"time (inc)\": 50.0, \"time\": 0.0},\n",
    "                    \"children\": [\n",
    "                        {\n",
    "                            \"name\": \"fred\",\n",
    "                            \"metrics\": {\"time (inc)\": 35.0, \"time\": 5.0},\n",
    "                            \"children\": [\n",
    "                                {\n",
    "                                    \"name\": \"plugh\",\n",
    "                                    \"metrics\": {\"time (inc)\": 5.0, \"time\": 5.0},\n",
    "                                },\n",
    "                                {\n",
    "                                    \"name\": \"xyzzy\",\n",
    "                                    \"metrics\": {\"time (inc)\": 25.0, \"time\": 5.0},\n",
    "                                    \"children\": [\n",
    "                                        {\n",
    "                                            \"name\": \"thud\",\n",
    "                                            \"metrics\": {\n",
    "                                                \"time (inc)\": 25.0,\n",
    "                                                \"time\": 5.0,\n",
    "                                            },\n",
    "                                            \"children\": [\n",
    "                                                {\n",
    "                                                    \"name\": \"baz\",\n",
    "                                                    \"metrics\": {\n",
    "                                                        \"time (inc)\": 5.0,\n",
    "                                                        \"time\": 5.0,\n",
    "                                                    },\n",
    "                                                },\n",
    "                                                {\n",
    "                                                    \"name\": \"garply\",\n",
    "                                                    \"metrics\": {\n",
    "                                                        \"time (inc)\": 15.0,\n",
    "                                                        \"time\": 15.0,\n",
    "                                                    },\n",
    "                                                },\n",
    "                                            ],\n",
    "                                        }\n",
    "                                    ],\n",
    "                                },\n",
    "                            ],\n",
    "                        },\n",
    "                        {\n",
    "                            \"name\": \"garply\",\n",
    "                            \"metrics\": {},\n",
    "                        },\n",
    "                    ],\n",
    "                },\n",
    "            ],\n",
    "        },\n",
    "        {\n",
    "            \"name\": \"waldo\",\n",
    "            \"metrics\": {},\n",
    "            \"children\": [\n",
    "                {\n",
    "                    \"name\": \"bar\",\n",
    "                    \"metrics\": {},\n",
    "                    \"children\": [\n",
    "                        {\"name\": \"baz\", \"metrics\": {\"time (inc)\": 5.0, \"time\": 5.0}},\n",
    "                        {\n",
    "                            \"name\": \"grault\",\n",
    "                            \"metrics\": {},\n",
    "                        },\n",
    "                    ],\n",
    "                }\n",
    "            ],\n",
    "        },\n",
    "    ]\n",
    "\n",
    "    return graph_dict"
   ]
  },
  {
   "cell_type": "code",
   "execution_count": 30,
   "metadata": {},
   "outputs": [],
   "source": [
    "gf = ht.GraphFrame.from_literal(mock_graph_literal())"
   ]
  },
  {
   "cell_type": "code",
   "execution_count": 31,
   "metadata": {
    "scrolled": false
   },
   "outputs": [
    {
     "name": "stdout",
     "output_type": "stream",
     "text": [
      "    __          __       __         __ \n",
      "   / /_  ____ _/ /______/ /_  ___  / /_\n",
      "  / __ \\/ __ `/ __/ ___/ __ \\/ _ \\/ __/\n",
      " / / / / /_/ / /_/ /__/ / / /  __/ /_  \n",
      "/_/ /_/\\__,_/\\__/\\___/_/ /_/\\___/\\__/  v1.2.0\n",
      "\n",
      "\u001b[38;5;22m0.000\u001b[0m \u001b[48;5;246m\u001b[38;5;232mfoo\u001b[0m\n",
      "├─ \u001b[38;5;46m5.000\u001b[0m \u001b[48;5;246m\u001b[38;5;232mbar\u001b[0m\n",
      "│  ├─ \u001b[38;5;46m5.000\u001b[0m \u001b[48;5;246m\u001b[38;5;232mbaz\u001b[0m\n",
      "│  └─ \u001b[38;5;220m10.000\u001b[0m \u001b[48;5;246m\u001b[38;5;232mgrault\u001b[0m\n",
      "├─ \u001b[38;5;22m0.000\u001b[0m \u001b[48;5;246m\u001b[38;5;232mqux\u001b[0m\n",
      "│  └─ \u001b[38;5;46m5.000\u001b[0m \u001b[48;5;246m\u001b[38;5;232mquux\u001b[0m\n",
      "│     └─ \u001b[38;5;220m10.000\u001b[0m \u001b[48;5;246m\u001b[38;5;232mcorge\u001b[0m\n",
      "│        ├─ \u001b[38;5;46m5.000\u001b[0m \u001b[48;5;246m\u001b[38;5;232mbar\u001b[0m\n",
      "│        │  ├─ \u001b[38;5;46m5.000\u001b[0m \u001b[48;5;246m\u001b[38;5;232mbaz\u001b[0m\n",
      "│        │  └─ \u001b[38;5;220m10.000\u001b[0m \u001b[48;5;246m\u001b[38;5;232mgrault\u001b[0m\n",
      "│        ├─ \u001b[38;5;196m15.000\u001b[0m \u001b[48;5;246m\u001b[38;5;232mgarply\u001b[0m\n",
      "│        └─ \u001b[38;5;220m10.000\u001b[0m \u001b[48;5;246m\u001b[38;5;232mgrault\u001b[0m\n",
      "└─ \u001b[38;5;22m0.000\u001b[0m \u001b[48;5;246m\u001b[38;5;232mwaldo\u001b[0m\n",
      "   ├─ \u001b[38;5;46m5.000\u001b[0m \u001b[48;5;246m\u001b[38;5;232mfred\u001b[0m\n",
      "   │  ├─ \u001b[38;5;46m5.000\u001b[0m \u001b[48;5;246m\u001b[38;5;232mplugh\u001b[0m\n",
      "   │  └─ \u001b[38;5;46m5.000\u001b[0m \u001b[48;5;246m\u001b[38;5;232mxyzzy\u001b[0m\n",
      "   │     └─ \u001b[38;5;46m5.000\u001b[0m \u001b[48;5;246m\u001b[38;5;232mthud\u001b[0m\n",
      "   │        ├─ \u001b[38;5;46m5.000\u001b[0m \u001b[48;5;246m\u001b[38;5;232mbaz\u001b[0m\n",
      "   │        └─ \u001b[38;5;196m15.000\u001b[0m \u001b[48;5;246m\u001b[38;5;232mgarply\u001b[0m\n",
      "   └─ \u001b[38;5;22mnan\u001b[0m \u001b[48;5;246m\u001b[38;5;232mgarply\u001b[0m\n",
      "\u001b[38;5;22mnan\u001b[0m \u001b[48;5;246m\u001b[38;5;232mwaldo\u001b[0m\n",
      "└─ \u001b[38;5;22mnan\u001b[0m \u001b[48;5;246m\u001b[38;5;232mbar\u001b[0m\n",
      "   ├─ \u001b[38;5;46m5.000\u001b[0m \u001b[48;5;246m\u001b[38;5;232mbaz\u001b[0m\n",
      "   └─ \u001b[38;5;22mnan\u001b[0m \u001b[48;5;246m\u001b[38;5;232mgrault\u001b[0m\n",
      "\n",
      "\u001b[4mLegend\u001b[0m (Metric: time)\n",
      "\u001b[38;5;196m█ \u001b[0m13.50 - 15.00\n",
      "\u001b[38;5;208m█ \u001b[0m10.50 - 13.50\n",
      "\u001b[38;5;220m█ \u001b[0m7.50 - 10.50\n",
      "\u001b[38;5;46m█ \u001b[0m4.50 - 7.50\n",
      "\u001b[38;5;34m█ \u001b[0m1.50 - 4.50\n",
      "\u001b[38;5;22m█ \u001b[0m0.00 - 1.50\n",
      "\n",
      "\u001b[48;5;246m\u001b[38;5;232mname\u001b[0m User code    \u001b[38;5;160m◀ \u001b[0m Only in left graph    \u001b[38;5;28m▶ \u001b[0m Only in right graph\n",
      "\n"
     ]
    },
    {
     "name": "stderr",
     "output_type": "stream",
     "text": [
      "/usr/local/lib/python3.7/site-packages/hatchet/util/deprecated.py:34: FutureWarning: tree() parameter \"color=\" has been removed.\n",
      "  FutureWarning,\n"
     ]
    },
    {
     "data": {
      "text/html": [
       "<div>\n",
       "<style scoped>\n",
       "    .dataframe tbody tr th:only-of-type {\n",
       "        vertical-align: middle;\n",
       "    }\n",
       "\n",
       "    .dataframe tbody tr th {\n",
       "        vertical-align: top;\n",
       "    }\n",
       "\n",
       "    .dataframe thead th {\n",
       "        text-align: right;\n",
       "    }\n",
       "</style>\n",
       "<table border=\"1\" class=\"dataframe\">\n",
       "  <thead>\n",
       "    <tr style=\"text-align: right;\">\n",
       "      <th></th>\n",
       "      <th>name</th>\n",
       "      <th>time</th>\n",
       "      <th>time (inc)</th>\n",
       "    </tr>\n",
       "    <tr>\n",
       "      <th>node</th>\n",
       "      <th></th>\n",
       "      <th></th>\n",
       "      <th></th>\n",
       "    </tr>\n",
       "  </thead>\n",
       "  <tbody>\n",
       "    <tr>\n",
       "      <th>{'name': 'foo'}</th>\n",
       "      <td>foo</td>\n",
       "      <td>0.0</td>\n",
       "      <td>130.0</td>\n",
       "    </tr>\n",
       "    <tr>\n",
       "      <th>{'name': 'bar'}</th>\n",
       "      <td>bar</td>\n",
       "      <td>5.0</td>\n",
       "      <td>20.0</td>\n",
       "    </tr>\n",
       "    <tr>\n",
       "      <th>{'name': 'baz'}</th>\n",
       "      <td>baz</td>\n",
       "      <td>5.0</td>\n",
       "      <td>5.0</td>\n",
       "    </tr>\n",
       "    <tr>\n",
       "      <th>{'name': 'grault'}</th>\n",
       "      <td>grault</td>\n",
       "      <td>10.0</td>\n",
       "      <td>10.0</td>\n",
       "    </tr>\n",
       "    <tr>\n",
       "      <th>{'name': 'qux'}</th>\n",
       "      <td>qux</td>\n",
       "      <td>0.0</td>\n",
       "      <td>60.0</td>\n",
       "    </tr>\n",
       "    <tr>\n",
       "      <th>{'name': 'quux'}</th>\n",
       "      <td>quux</td>\n",
       "      <td>5.0</td>\n",
       "      <td>60.0</td>\n",
       "    </tr>\n",
       "    <tr>\n",
       "      <th>{'name': 'corge'}</th>\n",
       "      <td>corge</td>\n",
       "      <td>10.0</td>\n",
       "      <td>55.0</td>\n",
       "    </tr>\n",
       "    <tr>\n",
       "      <th>{'name': 'bar'}</th>\n",
       "      <td>bar</td>\n",
       "      <td>5.0</td>\n",
       "      <td>20.0</td>\n",
       "    </tr>\n",
       "    <tr>\n",
       "      <th>{'name': 'baz'}</th>\n",
       "      <td>baz</td>\n",
       "      <td>5.0</td>\n",
       "      <td>5.0</td>\n",
       "    </tr>\n",
       "    <tr>\n",
       "      <th>{'name': 'grault'}</th>\n",
       "      <td>grault</td>\n",
       "      <td>10.0</td>\n",
       "      <td>10.0</td>\n",
       "    </tr>\n",
       "    <tr>\n",
       "      <th>{'name': 'garply'}</th>\n",
       "      <td>garply</td>\n",
       "      <td>15.0</td>\n",
       "      <td>15.0</td>\n",
       "    </tr>\n",
       "    <tr>\n",
       "      <th>{'name': 'grault'}</th>\n",
       "      <td>grault</td>\n",
       "      <td>10.0</td>\n",
       "      <td>10.0</td>\n",
       "    </tr>\n",
       "    <tr>\n",
       "      <th>{'name': 'waldo'}</th>\n",
       "      <td>waldo</td>\n",
       "      <td>0.0</td>\n",
       "      <td>50.0</td>\n",
       "    </tr>\n",
       "    <tr>\n",
       "      <th>{'name': 'fred'}</th>\n",
       "      <td>fred</td>\n",
       "      <td>5.0</td>\n",
       "      <td>35.0</td>\n",
       "    </tr>\n",
       "    <tr>\n",
       "      <th>{'name': 'plugh'}</th>\n",
       "      <td>plugh</td>\n",
       "      <td>5.0</td>\n",
       "      <td>5.0</td>\n",
       "    </tr>\n",
       "    <tr>\n",
       "      <th>{'name': 'xyzzy'}</th>\n",
       "      <td>xyzzy</td>\n",
       "      <td>5.0</td>\n",
       "      <td>25.0</td>\n",
       "    </tr>\n",
       "    <tr>\n",
       "      <th>{'name': 'thud'}</th>\n",
       "      <td>thud</td>\n",
       "      <td>5.0</td>\n",
       "      <td>25.0</td>\n",
       "    </tr>\n",
       "    <tr>\n",
       "      <th>{'name': 'baz'}</th>\n",
       "      <td>baz</td>\n",
       "      <td>5.0</td>\n",
       "      <td>5.0</td>\n",
       "    </tr>\n",
       "    <tr>\n",
       "      <th>{'name': 'garply'}</th>\n",
       "      <td>garply</td>\n",
       "      <td>15.0</td>\n",
       "      <td>15.0</td>\n",
       "    </tr>\n",
       "    <tr>\n",
       "      <th>{'name': 'garply'}</th>\n",
       "      <td>garply</td>\n",
       "      <td>NaN</td>\n",
       "      <td>NaN</td>\n",
       "    </tr>\n",
       "    <tr>\n",
       "      <th>{'name': 'waldo'}</th>\n",
       "      <td>waldo</td>\n",
       "      <td>NaN</td>\n",
       "      <td>NaN</td>\n",
       "    </tr>\n",
       "    <tr>\n",
       "      <th>{'name': 'bar'}</th>\n",
       "      <td>bar</td>\n",
       "      <td>NaN</td>\n",
       "      <td>NaN</td>\n",
       "    </tr>\n",
       "    <tr>\n",
       "      <th>{'name': 'baz'}</th>\n",
       "      <td>baz</td>\n",
       "      <td>5.0</td>\n",
       "      <td>5.0</td>\n",
       "    </tr>\n",
       "    <tr>\n",
       "      <th>{'name': 'grault'}</th>\n",
       "      <td>grault</td>\n",
       "      <td>NaN</td>\n",
       "      <td>NaN</td>\n",
       "    </tr>\n",
       "  </tbody>\n",
       "</table>\n",
       "</div>"
      ],
      "text/plain": [
       "                      name  time  time (inc)\n",
       "node                                        \n",
       "{'name': 'foo'}        foo   0.0       130.0\n",
       "{'name': 'bar'}        bar   5.0        20.0\n",
       "{'name': 'baz'}        baz   5.0         5.0\n",
       "{'name': 'grault'}  grault  10.0        10.0\n",
       "{'name': 'qux'}        qux   0.0        60.0\n",
       "{'name': 'quux'}      quux   5.0        60.0\n",
       "{'name': 'corge'}    corge  10.0        55.0\n",
       "{'name': 'bar'}        bar   5.0        20.0\n",
       "{'name': 'baz'}        baz   5.0         5.0\n",
       "{'name': 'grault'}  grault  10.0        10.0\n",
       "{'name': 'garply'}  garply  15.0        15.0\n",
       "{'name': 'grault'}  grault  10.0        10.0\n",
       "{'name': 'waldo'}    waldo   0.0        50.0\n",
       "{'name': 'fred'}      fred   5.0        35.0\n",
       "{'name': 'plugh'}    plugh   5.0         5.0\n",
       "{'name': 'xyzzy'}    xyzzy   5.0        25.0\n",
       "{'name': 'thud'}      thud   5.0        25.0\n",
       "{'name': 'baz'}        baz   5.0         5.0\n",
       "{'name': 'garply'}  garply  15.0        15.0\n",
       "{'name': 'garply'}  garply   NaN         NaN\n",
       "{'name': 'waldo'}    waldo   NaN         NaN\n",
       "{'name': 'bar'}        bar   NaN         NaN\n",
       "{'name': 'baz'}        baz   5.0         5.0\n",
       "{'name': 'grault'}  grault   NaN         NaN"
      ]
     },
     "execution_count": 31,
     "metadata": {},
     "output_type": "execute_result"
    }
   ],
   "source": [
    "print(gf.tree(color=True))\n",
    "gf.dataframe"
   ]
  },
  {
   "cell_type": "markdown",
   "metadata": {},
   "source": [
    "## Query 1\n",
    "This query matches the following:\n",
    "1. A single node with name \"qux\"\n",
    "2. 0 or more nodes with inclusive time greater than 10\n",
    "3. A single node with name starting with \"gr\" and inclusive time less than or equal to 10"
   ]
  },
  {
   "cell_type": "code",
   "execution_count": 10,
   "metadata": {},
   "outputs": [],
   "source": [
    "query = [\n",
    "    {\"name\": \"qux\"},\n",
    "    (\"*\", {\"time (inc)\": \"> 10\"}),\n",
    "    {\"name\": \"gr[a-z]+\", \"time (inc)\": \"<= 10\"}\n",
    "]"
   ]
  },
  {
   "cell_type": "code",
   "execution_count": 11,
   "metadata": {},
   "outputs": [
    {
     "ename": "EmptyFilter",
     "evalue": "The provided filter would have produced an empty GraphFrame.",
     "output_type": "error",
     "traceback": [
      "\u001b[0;31m---------------------------------------------------------------------------\u001b[0m",
      "\u001b[0;31mEmptyFilter\u001b[0m                               Traceback (most recent call last)",
      "\u001b[0;32m<ipython-input-11-b78ded6cd413>\u001b[0m in \u001b[0;36m<module>\u001b[0;34m\u001b[0m\n\u001b[0;32m----> 1\u001b[0;31m \u001b[0msgf\u001b[0m \u001b[0;34m=\u001b[0m \u001b[0mgf\u001b[0m\u001b[0;34m.\u001b[0m\u001b[0mfilter\u001b[0m\u001b[0;34m(\u001b[0m\u001b[0mquery\u001b[0m\u001b[0;34m,\u001b[0m \u001b[0msquash\u001b[0m\u001b[0;34m=\u001b[0m\u001b[0;32mTrue\u001b[0m\u001b[0;34m)\u001b[0m\u001b[0;34m\u001b[0m\u001b[0;34m\u001b[0m\u001b[0m\n\u001b[0m\u001b[1;32m      2\u001b[0m \u001b[0mprint\u001b[0m\u001b[0;34m(\u001b[0m\u001b[0msgf\u001b[0m\u001b[0;34m.\u001b[0m\u001b[0mtree\u001b[0m\u001b[0;34m(\u001b[0m\u001b[0mcolor\u001b[0m\u001b[0;34m=\u001b[0m\u001b[0;32mTrue\u001b[0m\u001b[0;34m,\u001b[0m \u001b[0mmetric\u001b[0m\u001b[0;34m=\u001b[0m\u001b[0;34m\"time (inc)\"\u001b[0m\u001b[0;34m)\u001b[0m\u001b[0;34m)\u001b[0m\u001b[0;34m\u001b[0m\u001b[0;34m\u001b[0m\u001b[0m\n\u001b[1;32m      3\u001b[0m \u001b[0msgf\u001b[0m\u001b[0;34m.\u001b[0m\u001b[0mdataframe\u001b[0m\u001b[0;34m\u001b[0m\u001b[0;34m\u001b[0m\u001b[0m\n",
      "\u001b[0;32m/usr/local/lib/python3.7/site-packages/hatchet/graphframe.py\u001b[0m in \u001b[0;36mfilter\u001b[0;34m(self, filter_obj, squash)\u001b[0m\n\u001b[1;32m    305\u001b[0m         \u001b[0;32mif\u001b[0m \u001b[0mfiltered_df\u001b[0m\u001b[0;34m.\u001b[0m\u001b[0mshape\u001b[0m\u001b[0;34m[\u001b[0m\u001b[0;36m0\u001b[0m\u001b[0;34m]\u001b[0m \u001b[0;34m==\u001b[0m \u001b[0;36m0\u001b[0m\u001b[0;34m:\u001b[0m\u001b[0;34m\u001b[0m\u001b[0;34m\u001b[0m\u001b[0m\n\u001b[1;32m    306\u001b[0m             raise EmptyFilter(\n\u001b[0;32m--> 307\u001b[0;31m                 \u001b[0;34m\"The provided filter would have produced an empty GraphFrame.\"\u001b[0m\u001b[0;34m\u001b[0m\u001b[0;34m\u001b[0m\u001b[0m\n\u001b[0m\u001b[1;32m    308\u001b[0m             )\n\u001b[1;32m    309\u001b[0m \u001b[0;34m\u001b[0m\u001b[0m\n",
      "\u001b[0;31mEmptyFilter\u001b[0m: The provided filter would have produced an empty GraphFrame."
     ]
    }
   ],
   "source": [
    "sgf = gf.filter(query, squash=True)\n",
    "print(sgf.tree(color=True, metric=\"time (inc)\"))\n",
    "sgf.dataframe"
   ]
  },
  {
   "cell_type": "markdown",
   "metadata": {},
   "source": [
    "## Query 2\n",
    "This query matches the following:\n",
    "1. A single node with name \"bar\"\n",
    "2. 0 or more nodes with inclusive time greater than 10\n",
    "3. A single node with name starting with \"gr\" and inclusive time less than or equal to 10"
   ]
  },
  {
   "cell_type": "code",
   "execution_count": 12,
   "metadata": {},
   "outputs": [],
   "source": [
    "query = [\n",
    "    {\"name\": \"bar\"},\n",
    "    (\"*\", {\"time (inc)\": \"> 50\"}),\n",
    "    {\"name\": \"gr[a-z]+\", \"time (inc)\": \"<= 10\"}\n",
    "]"
   ]
  },
  {
   "cell_type": "code",
   "execution_count": null,
   "metadata": {},
   "outputs": [],
   "source": [
    "sgf = gf.filter(query, squash=True)\n",
    "print(sgf.tree(color=True, metric=\"time (inc)\"))\n",
    "sgf.dataframe"
   ]
  },
  {
   "cell_type": "markdown",
   "metadata": {},
   "source": [
    "## Query 3\n",
    "\n",
    "This query matches the following:\n",
    "1. A single node with name \"waldo\"\n",
    "2. 1 or more of any node\n",
    "3. A single node with an inclusive time >= 20\n",
    "4. 1 or more of any node\n",
    "5. A single node with an exclusive and inclusive time equal to 5"
   ]
  },
  {
   "cell_type": "code",
   "execution_count": null,
   "metadata": {},
   "outputs": [],
   "source": [
    "query = [\n",
    "    {\"name\": \"waldo\"},\n",
    "    \"+\",\n",
    "    {\"time (inc)\": \">= 20.0\"},\n",
    "    \"+\",\n",
    "    {\"time (inc)\": 5.0, \"time\": 5.0}\n",
    "]"
   ]
  },
  {
   "cell_type": "code",
   "execution_count": null,
   "metadata": {},
   "outputs": [],
   "source": [
    "sgf = gf.filter(query, squash=True)\n",
    "print(sgf.tree(color=True, metric=\"time (inc)\"))\n",
    "sgf.dataframe"
   ]
  },
  {
   "cell_type": "markdown",
   "metadata": {},
   "source": [
    "## Query 4\n",
    "\n",
    "This query matches the following:\n",
    "1. A single node with name \"waldo\"\n",
    "2. 1 or more of any node\n",
    "3. A single node with an inclusive time >= 20\n",
    "4. 1 or more of any node\n",
    "5. A single node with an exclusive and inclusive time equal to 7.5\n",
    "\n",
    "This query does not match any node. It should raise an `EmptyFilter` exception."
   ]
  },
  {
   "cell_type": "code",
   "execution_count": null,
   "metadata": {},
   "outputs": [],
   "source": [
    "query = [\n",
    "    {\"name\": \"waldo\"},\n",
    "    \"+\",\n",
    "    {\"time (inc)\": \">= 20.0\"},\n",
    "    \"+\",\n",
    "    {\"time (inc)\": 7.5, \"time\": 7.5}\n",
    "]"
   ]
  },
  {
   "cell_type": "code",
   "execution_count": null,
   "metadata": {},
   "outputs": [],
   "source": [
    "sgf = gf.filter(query, squash=True)\n",
    "print(sgf.tree(color=True, metric=\"time (inc)\"))\n",
    "sgf.dataframe"
   ]
  },
  {
   "cell_type": "markdown",
   "metadata": {},
   "source": [
    "# \"Real-Life\" Example\n",
    "\n",
    "This example uses the `asde/hatchet-sc19-datasets/kripke-mpi/mvapich2.3/hpctoolkit-kripke-database-2589460` database from the SC19 paper."
   ]
  },
  {
   "cell_type": "code",
   "execution_count": null,
   "metadata": {},
   "outputs": [],
   "source": [
    "gf = ht.GraphFrame.from_hpctoolkit(\"../hatchet-sc19-datasets/kripke-mpi/mvapich2.3/hpctoolkit-kripke-database-2589460\")"
   ]
  },
  {
   "cell_type": "code",
   "execution_count": null,
   "metadata": {
    "scrolled": true
   },
   "outputs": [],
   "source": [
    "print(gf.tree(color=True, metric=\"time (inc)\"))\n",
    "gf.dataframe"
   ]
  },
  {
   "cell_type": "code",
   "execution_count": null,
   "metadata": {},
   "outputs": [],
   "source": [
    "gf.drop_index_levels()\n",
    "gf.dataframe"
   ]
  },
  {
   "cell_type": "code",
   "execution_count": null,
   "metadata": {},
   "outputs": [],
   "source": [
    "isinstance(gf.dataframe.iloc[0][\"name\"], str)"
   ]
  },
  {
   "cell_type": "code",
   "execution_count": null,
   "metadata": {},
   "outputs": [],
   "source": [
    "gf.dataframe[gf.dataframe[\"name\"].str.startswith(\"MPI\")]"
   ]
  },
  {
   "cell_type": "markdown",
   "metadata": {},
   "source": [
    "## Query 1"
   ]
  },
  {
   "cell_type": "code",
   "execution_count": null,
   "metadata": {},
   "outputs": [],
   "source": [
    "query = [\n",
    "    \"*\",\n",
    "    {\"name\": \"MPI.*\"},\n",
    "    \"*\"\n",
    "]"
   ]
  },
  {
   "cell_type": "code",
   "execution_count": null,
   "metadata": {},
   "outputs": [],
   "source": [
    "sgf = gf.filter(query, squash=True)\n",
    "print(sgf.tree(color=True, metric=\"time (inc)\"))\n",
    "sgf.dataframe"
   ]
  },
  {
   "cell_type": "code",
   "execution_count": null,
   "metadata": {},
   "outputs": [],
   "source": []
  }
 ],
 "metadata": {
  "kernelspec": {
   "display_name": "Python 3",
   "language": "python",
   "name": "python3"
  },
  "language_info": {
   "codemirror_mode": {
    "name": "ipython",
    "version": 3
   },
   "file_extension": ".py",
   "mimetype": "text/x-python",
   "name": "python",
   "nbconvert_exporter": "python",
   "pygments_lexer": "ipython3",
   "version": "3.7.7"
  }
 },
 "nbformat": 4,
 "nbformat_minor": 2
}
